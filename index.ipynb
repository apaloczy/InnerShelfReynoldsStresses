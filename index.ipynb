{
 "cells": [
  {
   "cell_type": "markdown",
   "metadata": {},
   "source": [
    "# Supplementary materials for \"Subtidal to supertidal variability of Reynolds stresses in a mid-latitude stratified inner-shelf\"\n",
    "\n",
    "A. Palóczy*, Jennifer A. MacKinnon and Amy F. Waterhouse\n",
    "\n",
    "Scripps Institution of Oceanography, University of California San Diego | *<apaloczy@ucsd.edu> |"
   ]
  },
  {
   "cell_type": "markdown",
   "metadata": {},
   "source": [
    "**Jupyter notebooks to reproduce manuscript figures**\n",
    "---"
   ]
  },
  {
   "cell_type": "markdown",
   "metadata": {},
   "source": [
    "* [Figure 1](https://nbviewer.jupyter.org/github/apaloczy/InnerShelfReynoldsStresses/blob/master/plot_figs/fig01/fig01.ipynb)\n",
    "* [Figure 2](https://nbviewer.jupyter.org/github/apaloczy/InnerShelfReynoldsStresses/blob/master/plot_figs/fig02/fig02.ipynb)\n",
    "* [Figure 3](https://nbviewer.jupyter.org/github/apaloczy/InnerShelfReynoldsStresses/blob/master/plot_figs/fig03/fig03.ipynb)\n",
    "* [Figure 4](https://nbviewer.jupyter.org/github/apaloczy/InnerShelfReynoldsStresses/blob/master/plot_figs/fig04/fig04.ipynb)\n",
    "* [Figure 5](https://nbviewer.jupyter.org/github/apaloczy/InnerShelfReynoldsStresses/blob/master/plot_figs/fig05/fig05.ipynb)\n",
    "* [Figure 6](https://nbviewer.jupyter.org/github/apaloczy/InnerShelfReynoldsStresses/blob/master/plot_figs/fig06/fig06.ipynb)\n",
    "* [Figure 7](https://nbviewer.jupyter.org/github/apaloczy/InnerShelfReynoldsStresses/blob/master/plot_figs/fig07/fig07.ipynb)\n",
    "* [Figure 8](https://nbviewer.jupyter.org/github/apaloczy/InnerShelfReynoldsStresses/blob/master/plot_figs/fig08/fig08.ipynb)\n",
    "* [Figure 9](https://nbviewer.jupyter.org/github/apaloczy/InnerShelfReynoldsStresses/blob/master/plot_figs/fig09/fig09.ipynb)\n",
    "* [Figure 10](https://nbviewer.jupyter.org/github/apaloczy/InnerShelfReynoldsStresses/blob/master/plot_figs/fig10/fig10.ipynb)\n",
    "* [Figure 11](https://nbviewer.jupyter.org/github/apaloczy/InnerShelfReynoldsStresses/blob/master/plot_figs/fig11/fig11.ipynb)\n",
    "* [Figure 12](https://nbviewer.jupyter.org/github/apaloczy/InnerShelfReynoldsStresses/blob/master/plot_figs/fig12/fig12.ipynb)\n",
    "* [Figure 13](https://nbviewer.jupyter.org/github/apaloczy/InnerShelfReynoldsStresses/blob/master/plot_figs/fig13/fig13.ipynb)\n",
    "* [Figure 14](https://nbviewer.jupyter.org/github/apaloczy/InnerShelfReynoldsStresses/blob/master/plot_figs/fig14/fig14.ipynb)"
   ]
  }
 ],
 "metadata": {
  "kernelspec": {
   "display_name": "Python 3",
   "language": "python",
   "name": "python3"
  },
  "language_info": {
   "codemirror_mode": {
    "name": "ipython",
    "version": 3
   },
   "file_extension": ".py",
   "mimetype": "text/x-python",
   "name": "python",
   "nbconvert_exporter": "python",
   "pygments_lexer": "ipython3",
   "version": "3.8.5"
  }
 },
 "nbformat": 4,
 "nbformat_minor": 4
}
